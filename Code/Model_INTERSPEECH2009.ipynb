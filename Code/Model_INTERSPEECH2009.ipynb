{
  "cells": [
    {
      "cell_type": "markdown",
      "metadata": {
        "id": "nriYBi-z34V8"
      },
      "source": [
        "# Libraries"
      ]
    },
    {
      "cell_type": "code",
      "execution_count": null,
      "metadata": {
        "id": "j1C17bXf5V6P",
        "colab": {
          "base_uri": "https://localhost:8080/"
        },
        "outputId": "b8b60027-8d0b-4981-9d16-3417e63ec4fc"
      },
      "outputs": [
        {
          "output_type": "stream",
          "name": "stdout",
          "text": [
            "Mounted at /content/drive\n"
          ]
        }
      ],
      "source": [
        "from google.colab import drive\n",
        "drive.mount('/content/drive')"
      ]
    },
    {
      "cell_type": "code",
      "execution_count": null,
      "metadata": {
        "id": "vAnpunBM35_Y"
      },
      "outputs": [],
      "source": [
        "import numpy as np\n",
        "import pandas as pd\n",
        "import seaborn as sns\n",
        "import matplotlib.pyplot as plt\n",
        "from random import randint\n",
        "import itertools\n",
        "\n",
        "# Sklearn\n",
        "from sklearn.preprocessing import OneHotEncoder, StandardScaler\n",
        "from sklearn.model_selection import train_test_split, GridSearchCV, RandomizedSearchCV, cross_val_score\n",
        "from sklearn.neural_network import MLPClassifier\n",
        "from sklearn.metrics import accuracy_score, confusion_matrix, precision_score, recall_score, f1_score\n",
        "from sklearn.tree import DecisionTreeClassifier\n",
        "from sklearn.svm import SVC\n",
        "from sklearn.naive_bayes import GaussianNB\n",
        "from sklearn.neighbors import KNeighborsClassifier\n",
        "from sklearn.dummy import DummyClassifier\n",
        "from sklearn import metrics\n",
        "from sklearn.ensemble import StackingClassifier, AdaBoostClassifier\n",
        "from sklearn.linear_model import LogisticRegression\n",
        "\n",
        "from xgboost import XGBClassifier"
      ]
    },
    {
      "cell_type": "markdown",
      "metadata": {
        "id": "tuRJj4Mu4AGc"
      },
      "source": [
        "# Importing Data"
      ]
    },
    {
      "cell_type": "code",
      "execution_count": null,
      "metadata": {
        "id": "CCxO5yqO4CCk"
      },
      "outputs": [],
      "source": [
        "df = pd.read_csv('/content/drive/MyDrive/DataMiningProject/SLI_data/SLI_INTERSPEECH2009_Functionals_Final2.csv')"
      ]
    },
    {
      "cell_type": "code",
      "execution_count": null,
      "metadata": {
        "id": "xYAz6KR_LUMF"
      },
      "outputs": [],
      "source": [
        "df = pd.read_csv('/content/drive/MyDrive/Data Mining/Data Mining Project/SLI_data/SLI_INTERSPEECH2009_Functionals_Final2.csv')"
      ]
    },
    {
      "cell_type": "markdown",
      "metadata": {
        "id": "pJwUc3uD_5B9"
      },
      "source": [
        "# Setup"
      ]
    },
    {
      "cell_type": "markdown",
      "metadata": {
        "id": "ccQXWSKS_8ck"
      },
      "source": [
        "## Train Test split"
      ]
    },
    {
      "cell_type": "markdown",
      "metadata": {
        "id": "_WWzZBq1__bn"
      },
      "source": [
        "we have 98 children in our dataset. 44 healthy kids and 54 children suffering from SLI. I've chosen 10 10 children to be in test data. half of them (5) are healthy."
      ]
    },
    {
      "cell_type": "code",
      "execution_count": null,
      "metadata": {
        "colab": {
          "base_uri": "https://localhost:8080/"
        },
        "id": "ksCNLuGH_6oU",
        "outputId": "c5ee9f45-4cf4-491e-ca05-b6ce9d935aed"
      },
      "outputs": [
        {
          "output_type": "execute_result",
          "data": {
            "text/plain": [
              "((3431, 386), (380, 386))"
            ]
          },
          "metadata": {},
          "execution_count": 4
        }
      ],
      "source": [
        "# P 10, 20, 32, 43, 56\n",
        "# H 26, 35, 44, 51, 68\n",
        "## selected children to be in test data\n",
        "df_test = df[df['patient_ID'].isin(['P10', 'P20', 'P32', 'P43', 'P56', 'H26', 'H35', 'H44', 'H51', 'H68']) ]\n",
        "df_train = df.drop(df_test.index)\n",
        "df_train.shape, df_test.shape"
      ]
    },
    {
      "cell_type": "code",
      "execution_count": null,
      "metadata": {
        "colab": {
          "base_uri": "https://localhost:8080/"
        },
        "id": "wkzJjsW0aT4A",
        "outputId": "fd3d8932-86c9-4f39-e3f7-bad161a8e5ea"
      },
      "outputs": [
        {
          "output_type": "execute_result",
          "data": {
            "text/plain": [
              "((3431, 384), (380, 384), (3431,), (380,))"
            ]
          },
          "metadata": {},
          "execution_count": 5
        }
      ],
      "source": [
        "X_train = df_train.drop(['Label', 'patient_ID'], axis=1)\n",
        "y_train = df_train['Label']\n",
        "X_test = df_test.drop(['Label', 'patient_ID'], axis=1)\n",
        "y_test = df_test['Label']\n",
        "X_train.shape, X_test.shape, y_train.shape, y_test.shape"
      ]
    },
    {
      "cell_type": "code",
      "execution_count": null,
      "metadata": {
        "colab": {
          "base_uri": "https://localhost:8080/",
          "height": 266
        },
        "id": "QOeV5-jZax9L",
        "outputId": "382a6c4b-65c4-43aa-dac6-3d6237f2a5f3"
      },
      "outputs": [
        {
          "output_type": "execute_result",
          "data": {
            "text/plain": [
              "<matplotlib.axes._subplots.AxesSubplot at 0x7f0f247c2250>"
            ]
          },
          "metadata": {},
          "execution_count": 6
        },
        {
          "output_type": "display_data",
          "data": {
            "text/plain": [
              "<Figure size 432x288 with 1 Axes>"
            ],
            "image/png": "[encoded data removed]"
          },
          "metadata": {}
        }
      ],
      "source": [
        "df_train['Label'].value_counts().plot(kind='pie', autopct='%1.0f%%')"
      ]
    },
    {
      "cell_type": "code",
      "execution_count": null,
      "metadata": {
        "colab": {
          "base_uri": "https://localhost:8080/",
          "height": 266
        },
        "id": "b8J8UCSebZ8x",
        "outputId": "934593b1-626a-454c-a478-6191f1af34fb"
      },
      "outputs": [
        {
          "output_type": "execute_result",
          "data": {
            "text/plain": [
              "<matplotlib.axes._subplots.AxesSubplot at 0x7f0f1b15f3d0>"
            ]
          },
          "metadata": {},
          "execution_count": 7
        },
        {
          "output_type": "display_data",
          "data": {
            "text/plain": [
              "<Figure size 432x288 with 1 Axes>"
            ],
            "image/png": "[encoded data removed]"
          },
          "metadata": {}
        }
      ],
      "source": [
        "df_test['Label'].value_counts().plot(kind='pie', autopct='%1.0f%%')"
      ]
    },
    {
      "cell_type": "markdown",
      "metadata": {
        "id": "drLdXuMlWmtw"
      },
      "source": [
        "## Determine Baseline "
      ]
    },
    {
      "cell_type": "code",
      "execution_count": null,
      "metadata": {
        "colab": {
          "base_uri": "https://localhost:8080/"
        },
        "id": "eH2t5U0JWspc",
        "outputId": "052bd287-5f2f-47c1-f772-ed56cf6919cc"
      },
      "outputs": [
        {
          "output_type": "stream",
          "name": "stdout",
          "text": [
            "[0.56993007 0.56993007 0.56993007 0.56993007 0.57167832 0.5709282 ]\n",
            "0.570387799590952\n"
          ]
        }
      ],
      "source": [
        "dummy_clf = DummyClassifier(strategy=\"most_frequent\")\n",
        "dummy_clf_scores = cross_val_score(dummy_clf, X_train, y_train, cv=6)\n",
        "print(dummy_clf_scores) ## mean accuracy\n",
        "print(dummy_clf_scores.mean())"
      ]
    },
    {
      "cell_type": "markdown",
      "metadata": {
        "id": "CPN5dytiVu_G"
      },
      "source": [
        "# Modelling"
      ]
    },
    {
      "cell_type": "markdown",
      "metadata": {
        "id": "z4enrh4OlmTd"
      },
      "source": [
        "## Decision Tree"
      ]
    },
    {
      "cell_type": "code",
      "execution_count": null,
      "metadata": {
        "colab": {
          "base_uri": "https://localhost:8080/"
        },
        "id": "XFJEaJYDnQmV",
        "outputId": "9f51759e-d33e-4584-81fd-b151e1dabb96"
      },
      "outputs": [
        {
          "output_type": "stream",
          "name": "stdout",
          "text": [
            "[0.91608392 0.93881119 0.98776224 0.97202797 0.96678322 0.98598949]\n",
            "0.9612430039312702\n"
          ]
        }
      ],
      "source": [
        "dc_tree = DecisionTreeClassifier()\n",
        "dc_tree_scores = cross_val_score(dc_tree, X_train, y_train, cv=6)\n",
        "print(dc_tree_scores)\n",
        "print(dc_tree_scores.mean())"
      ]
    },
    {
      "cell_type": "markdown",
      "metadata": {
        "id": "yfq6pky39WjV"
      },
      "source": [
        "### Hyperparameter Tuning"
      ]
    },
    {
      "cell_type": "code",
      "execution_count": null,
      "metadata": {
        "colab": {
          "base_uri": "https://localhost:8080/"
        },
        "id": "Pznzigq39fKU",
        "outputId": "14137160-a725-478d-85e1-1547728649cf"
      },
      "outputs": [
        {
          "output_type": "execute_result",
          "data": {
            "text/plain": [
              "{'max_depth': 40, 'min_samples_leaf': 10, 'min_samples_split': 35}"
            ]
          },
          "metadata": {},
          "execution_count": 9
        }
      ],
      "source": [
        "parameters = {'max_depth':[40,50,60,70],\n",
        "              'min_samples_split':[35,40],\n",
        "              'min_samples_leaf':[8,10,15]}\n",
        "\n",
        "dc_tree = DecisionTreeClassifier(random_state = 42, criterion='entropy')\n",
        "clf = GridSearchCV(estimator=dc_tree,\n",
        "                   param_grid=parameters,\n",
        "                   cv=6)\n",
        "clf = clf.fit(X=X_train, y=y_train)\n",
        "clf.best_params_"
      ]
    },
    {
      "cell_type": "code",
      "execution_count": null,
      "metadata": {
        "colab": {
          "base_uri": "https://localhost:8080/"
        },
        "id": "_KTk84_tAk9b",
        "outputId": "71906914-d289-4afd-cf51-746f8198b262"
      },
      "outputs": [
        {
          "output_type": "stream",
          "name": "stdout",
          "text": [
            "[0.94755245 0.98076923 0.98426573 0.96678322 0.98601399 0.95796848]\n",
            "0.970558848623647\n"
          ]
        }
      ],
      "source": [
        "dc_tree_scores = cross_val_score(clf.best_estimator_, X_train, y_train, cv=6)\n",
        "print(dc_tree_scores)\n",
        "print(dc_tree_scores.mean())"
      ]
    },
    {
      "cell_type": "markdown",
      "metadata": {
        "id": "svVbJVRk28iN"
      },
      "source": [
        "## SVM"
      ]
    },
    {
      "cell_type": "code",
      "execution_count": null,
      "metadata": {
        "colab": {
          "base_uri": "https://localhost:8080/"
        },
        "id": "cjjyCYNQ29pc",
        "outputId": "abef28ef-2d4b-487d-ec2d-b87fcc851c7c"
      },
      "outputs": [
        {
          "output_type": "stream",
          "name": "stdout",
          "text": [
            "[0.82867133 0.96153846 0.99825175 0.98251748 0.99825175 1.        ]\n",
            "0.9615384615384616\n"
          ]
        }
      ],
      "source": [
        "svm_clf = SVC()\n",
        "svm_clf_scores = cross_val_score(svm_clf, X_train, y_train, cv=6)\n",
        "print(svm_clf_scores)\n",
        "print(svm_clf_scores.mean())"
      ]
    },
    {
      "cell_type": "markdown",
      "metadata": {
        "id": "KHA5yVuBIk9H"
      },
      "source": [
        "### Hyperparameter Tuning"
      ]
    },
    {
      "cell_type": "code",
      "execution_count": null,
      "metadata": {
        "colab": {
          "base_uri": "https://localhost:8080/"
        },
        "id": "AzEg_y2TgcGR",
        "outputId": "ecf74a2e-01ae-4a27-e98b-89e2096595a6"
      },
      "outputs": [
        {
          "output_type": "execute_result",
          "data": {
            "text/plain": [
              "{'C': 0.5, 'degree': 2}"
            ]
          },
          "metadata": {},
          "execution_count": 18
        }
      ],
      "source": [
        "## Checked both poly and the other, poly perfomance was better so we chose this one\n",
        "\n",
        "parameters = {'C':[0.3, 0.5, 0.7, 1.0, 2.0, 4.0],\n",
        "              'degree':list(range(2,7))}\n",
        "\n",
        "svm = SVC(random_state=42, kernel=\"poly\")\n",
        "clf = GridSearchCV(estimator=svm,\n",
        "                   param_grid=parameters,\n",
        "                   cv=6)\n",
        "clf = clf.fit(X=X_train, y=y_train)\n",
        "clf.best_params_\n",
        "#96.47 %"
      ]
    },
    {
      "cell_type": "code",
      "execution_count": null,
      "metadata": {
        "id": "KWNaKHxxcYg6"
      },
      "outputs": [],
      "source": [
        "parameters = {'C':[0.3, 0.5, 0.7, 1.0, 2.0, 4.0],\n",
        "              'kernel':['linear', 'rbf', 'sigmoid'],\n",
        "              }\n",
        "svm = SVC(random_state=42)\n",
        "clf = GridSearchCV(estimator=svm,\n",
        "                   param_grid=parameters,\n",
        "                   cv=6)\n",
        "clf = clf.fit(X=X_train, y=y_train)\n",
        "clf.best_params_\n",
        "#96.47 %"
      ]
    },
    {
      "cell_type": "code",
      "execution_count": null,
      "metadata": {
        "colab": {
          "base_uri": "https://localhost:8080/"
        },
        "id": "kliRAvI7dDLU",
        "outputId": "722284e7-f3d9-4f44-be59-6bcbe04da17c"
      },
      "outputs": [
        {
          "output_type": "stream",
          "name": "stdout",
          "text": [
            "[0.84265734 0.96853147 0.9965035  0.98251748 0.99825175 1.        ]\n",
            "0.9647435897435898\n"
          ]
        }
      ],
      "source": [
        "svm_scores = cross_val_score(clf.best_estimator_, X_train, y_train, cv=6)\n",
        "print(svm_scores)\n",
        "print(svm_scores.mean())"
      ]
    },
    {
      "cell_type": "markdown",
      "metadata": {
        "id": "9IrFia6TlrmU"
      },
      "source": [
        "## Neural Networks"
      ]
    },
    {
      "cell_type": "code",
      "execution_count": null,
      "metadata": {
        "colab": {
          "base_uri": "https://localhost:8080/"
        },
        "id": "iNWd-nwl3DH1",
        "outputId": "c31b07c4-0326-408a-caf1-aab8f697bc65"
      },
      "outputs": [
        {
          "output_type": "stream",
          "name": "stderr",
          "text": [
            "/usr/local/lib/python3.7/dist-packages/sklearn/neural_network/_multilayer_perceptron.py:696: ConvergenceWarning: Stochastic Optimizer: Maximum iterations (200) reached and the optimization hasn't converged yet.\n",
            "  ConvergenceWarning,\n",
            "/usr/local/lib/python3.7/dist-packages/sklearn/neural_network/_multilayer_perceptron.py:696: ConvergenceWarning: Stochastic Optimizer: Maximum iterations (200) reached and the optimization hasn't converged yet.\n",
            "  ConvergenceWarning,\n",
            "/usr/local/lib/python3.7/dist-packages/sklearn/neural_network/_multilayer_perceptron.py:696: ConvergenceWarning: Stochastic Optimizer: Maximum iterations (200) reached and the optimization hasn't converged yet.\n",
            "  ConvergenceWarning,\n",
            "/usr/local/lib/python3.7/dist-packages/sklearn/neural_network/_multilayer_perceptron.py:696: ConvergenceWarning: Stochastic Optimizer: Maximum iterations (200) reached and the optimization hasn't converged yet.\n",
            "  ConvergenceWarning,\n"
          ]
        },
        {
          "output_type": "stream",
          "name": "stdout",
          "text": [
            "[0.81993007 0.95804196 0.9965035  0.98601399 0.99825175 0.99299475]\n",
            "0.9586226674668005\n"
          ]
        },
        {
          "output_type": "stream",
          "name": "stderr",
          "text": [
            "/usr/local/lib/python3.7/dist-packages/sklearn/neural_network/_multilayer_perceptron.py:696: ConvergenceWarning: Stochastic Optimizer: Maximum iterations (200) reached and the optimization hasn't converged yet.\n",
            "  ConvergenceWarning,\n"
          ]
        }
      ],
      "source": [
        "mlp_clf = MLPClassifier()\n",
        "mlp_clf_score = cross_val_score(mlp_clf, X_train, y_train, cv=6)\n",
        "print(mlp_clf_score)\n",
        "print(mlp_clf_score.mean())"
      ]
    },
    {
      "cell_type": "markdown",
      "metadata": {
        "id": "FkpJ6zQqdY8Q"
      },
      "source": [
        "### Hyperparameter Tuning"
      ]
    },
    {
      "cell_type": "code",
      "execution_count": null,
      "metadata": {
        "colab": {
          "base_uri": "https://localhost:8080/"
        },
        "id": "wGVedcS0dWll",
        "outputId": "f8177ccf-cb82-4913-abce-73bedeceb391"
      },
      "outputs": [
        {
          "output_type": "stream",
          "name": "stderr",
          "text": [
            "/usr/local/lib/python3.7/dist-packages/sklearn/neural_network/_multilayer_perceptron.py:696: ConvergenceWarning: Stochastic Optimizer: Maximum iterations (200) reached and the optimization hasn't converged yet.\n",
            "  ConvergenceWarning,\n",
            "/usr/local/lib/python3.7/dist-packages/sklearn/neural_network/_multilayer_perceptron.py:696: ConvergenceWarning: Stochastic Optimizer: Maximum iterations (200) reached and the optimization hasn't converged yet.\n",
            "  ConvergenceWarning,\n",
            "/usr/local/lib/python3.7/dist-packages/sklearn/neural_network/_multilayer_perceptron.py:696: ConvergenceWarning: Stochastic Optimizer: Maximum iterations (200) reached and the optimization hasn't converged yet.\n",
            "  ConvergenceWarning,\n",
            "/usr/local/lib/python3.7/dist-packages/sklearn/neural_network/_multilayer_perceptron.py:696: ConvergenceWarning: Stochastic Optimizer: Maximum iterations (200) reached and the optimization hasn't converged yet.\n",
            "  ConvergenceWarning,\n"
          ]
        },
        {
          "output_type": "execute_result",
          "data": {
            "text/plain": [
              "{'activation': 'relu',\n",
              " 'hidden_layer_sizes': (400, 200, 100),\n",
              " 'learning_rate_init': 0.01}"
            ]
          },
          "metadata": {},
          "execution_count": 22
        }
      ],
      "source": [
        "num_layer_fixed = [(400),(500),(400,200),(350, 85),(500, 200), (400,200,100),]\n",
        "            \n",
        "parameters = {'learning_rate_init': [1e-2, 1e-3],\n",
        "                'hidden_layer_sizes':num_layer_fixed,\n",
        "                'activation':['tanh', 'relu']}\n",
        "\n",
        "mlp = MLPClassifier(random_state=42, solver='adam')\n",
        "clf = GridSearchCV(estimator=mlp,\n",
        "                         param_grid=parameters,\n",
        "                         cv=6)\n",
        "clf = clf.fit(X=X_train, y=y_train)\n",
        "clf.best_params_"
      ]
    },
    {
      "cell_type": "code",
      "execution_count": null,
      "metadata": {
        "colab": {
          "base_uri": "https://localhost:8080/"
        },
        "id": "JJ0ZwKTieo9b",
        "outputId": "d0fe65ca-e7e4-44b3-d8f4-a65bfe977dfe"
      },
      "outputs": [
        {
          "output_type": "stream",
          "name": "stdout",
          "text": [
            "[0.9020979  0.95629371 0.99475524 0.96678322 0.98776224 0.99124343]\n",
            "0.9664892900444565\n"
          ]
        }
      ],
      "source": [
        "mlp_clf_score = cross_val_score(clf.best_estimator_, X_train, y_train, cv=6)\n",
        "print(mlp_clf_score)\n",
        "print(mlp_clf_score.mean())"
      ]
    },
    {
      "cell_type": "markdown",
      "metadata": {
        "id": "qBVwQoNIl4z1"
      },
      "source": [
        "## Ensemble Methods"
      ]
    },
    {
      "cell_type": "markdown",
      "metadata": {
        "id": "HcW72WwkWByO"
      },
      "source": [
        "### Stacking"
      ]
    },
    {
      "cell_type": "code",
      "execution_count": null,
      "metadata": {
        "id": "oXcl72_XIZRi"
      },
      "outputs": [],
      "source": [
        "from pandas.core.common import random_state\n",
        "base_models = [\n",
        "              ('mlp', MLPClassifier(random_state=42,\n",
        "                                    solver='adam',\n",
        "                                    activation='relu',\n",
        "                                    hidden_layer_sizes=(400,200,100),\n",
        "                                    learning_rate_init=0.01)),\n",
        "              ('svm', SVC(random_state=42, kernel=\"poly\", C=0.5, degree=2)), \n",
        "              ('dc_tree', DecisionTreeClassifier(random_state = 42,\n",
        "                                                criterion='entropy',\n",
        "                                                max_depth=40,\n",
        "                                                min_samples_leaf=10,\n",
        "                                                min_samples_split=35)),\n",
        "]\n",
        "meta_model = LogisticRegression(random_state=42)\n",
        "stacked_model = StackingClassifier(estimators=base_models, final_estimator=meta_model, cv=10, random_state=42)"
      ]
    },
    {
      "cell_type": "code",
      "execution_count": null,
      "metadata": {
        "colab": {
          "base_uri": "https://localhost:8080/"
        },
        "id": "OrNwmyd_L9cu",
        "outputId": "8b9bd14f-dff2-455d-e55b-1e7d051d36be"
      },
      "outputs": [
        {
          "output_type": "stream",
          "name": "stdout",
          "text": [
            "[0.86713287 0.97727273 0.99300699 0.97552448 0.99475524 0.99474606]\n",
            "0.967073061206161\n"
          ]
        }
      ],
      "source": [
        "stacked_model_score = cross_val_score(stacked_model, X_train, y_train, cv=6)\n",
        "print(stacked_model_score)\n",
        "print(stacked_model_score.mean())"
      ]
    },
    {
      "cell_type": "markdown",
      "metadata": {
        "id": "7vLDjE8nmDDO"
      },
      "source": [
        "### Adaboost"
      ]
    },
    {
      "cell_type": "markdown",
      "source": [
        "Hyper-parameter tuning"
      ],
      "metadata": {
        "id": "9cyeSlKi4-rb"
      }
    },
    {
      "cell_type": "code",
      "source": [
        "# run for three times to find the best set\n",
        "\n",
        "param_grid = {\"n_estimators\" : np.arange(85, 116, 10),\n",
        "              \"learning_rate\": np.arange(0.7, 1.01, 0.1), \n",
        "             }\n",
        "\n",
        "ABC = AdaBoostClassifier(random_state=42)\n",
        "grid_search_ABC = GridSearchCV(ABC, param_grid=param_grid)\n",
        "grid_search_ABC = grid_search_ABC.fit(X=X_train, y=y_train)\n",
        "grid_search_ABC.best_params_"
      ],
      "metadata": {
        "colab": {
          "base_uri": "https://localhost:8080/"
        },
        "id": "4px8Sugi46GF",
        "outputId": "fc58db95-328f-4044-a373-aa62360e1472"
      },
      "execution_count": null,
      "outputs": [
        {
          "output_type": "execute_result",
          "data": {
            "text/plain": [
              "{'learning_rate': 0.7999999999999999, 'n_estimators': 95}"
            ]
          },
          "metadata": {},
          "execution_count": 52
        }
      ]
    },
    {
      "cell_type": "code",
      "source": [
        "abc = AdaBoostClassifier(random_state=42, learning_rate=0.8, n_estimators= 95)\n",
        "ada_clf_score = cross_val_score(abc, X_train, y_train, cv=6)\n",
        "print(ada_clf_score)\n",
        "print(ada_clf_score.mean())"
      ],
      "metadata": {
        "colab": {
          "base_uri": "https://localhost:8080/"
        },
        "id": "ls1tFID_5dKF",
        "outputId": "3ef687ad-0cef-4088-e33a-b319beb6ae22"
      },
      "execution_count": null,
      "outputs": [
        {
          "output_type": "stream",
          "name": "stdout",
          "text": [
            "[0.93881119 0.98776224 0.9965035  0.97552448 0.99475524 0.99649737]\n",
            "0.9816423360644025\n"
          ]
        }
      ]
    },
    {
      "cell_type": "markdown",
      "metadata": {
        "id": "fyS9qiw0a0hr"
      },
      "source": [
        "# Evaluation"
      ]
    },
    {
      "cell_type": "markdown",
      "metadata": {
        "id": "9A-d52_VHdSk"
      },
      "source": [
        "## Comparing all models"
      ]
    },
    {
      "cell_type": "code",
      "execution_count": null,
      "metadata": {
        "id": "p-qMoGIUHnqv"
      },
      "outputs": [],
      "source": [
        "cv_results = {}\n",
        "\n",
        "##### Decision Tree ######\n",
        "dc_tree = DecisionTreeClassifier(random_state = 42,\n",
        "                                 criterion='entropy',\n",
        "                                 max_depth=40,\n",
        "                                 min_samples_leaf=10,\n",
        "                                 min_samples_split=35)\n",
        "\n",
        "##### SVM ######\n",
        "svm = SVC(random_state=42, kernel=\"poly\", C=0.5, degree=2)\n",
        "\n",
        "##### Multi Layer Perceptron ######\n",
        "mlp = MLPClassifier(random_state=42,\n",
        "                    solver='adam',\n",
        "                    activation='relu',\n",
        "                    hidden_layer_sizes=(400,200,100),\n",
        "                    learning_rate_init=0.01)\n",
        "\n",
        "##### AdaBoost Classifier ######\n",
        "abc = AdaBoostClassifier(random_state=42, learning_rate=0.8, n_estimators= 95)\n",
        "\n",
        "##### Stacking Classifier ######\n",
        "base_models = [('mlp', mlp),\n",
        "              ('svm', svm), \n",
        "              ('dc_tree', dc_tree)]          \n",
        "meta_model = LogisticRegression(random_state=42)\n",
        "stacked_model = StackingClassifier(estimators=base_models, final_estimator=meta_model, cv=10, random_state=42)\n",
        "\n",
        "##### Results ######\n",
        "cv_results['DicisionTree'] = cross_val_score(dc_tree, X_train, y_train, cv=6)\n",
        "cv_results['SVM'] = cross_val_score(svm, X_train, y_train, cv=6)\n",
        "cv_results['NN'] = cross_val_score(mlp, X_train, y_train, cv=6)\n",
        "cv_results['AdaBoost'] = cross_val_score(abc, X_train, y_train, cv=6)\n",
        "cv_results['StackedModel'] = cross_val_score(stacked_model, X_train, y_train, cv=6)\n",
        "\n",
        "cv_results_df = pd.DataFrame().from_dict(cv_results)\n"
      ]
    },
    {
      "cell_type": "code",
      "execution_count": null,
      "metadata": {
        "colab": {
          "base_uri": "https://localhost:8080/",
          "height": 392
        },
        "id": "88P5nwzZKQJb",
        "outputId": "d86553d7-453e-416d-d6f9-b5331de07ee1"
      },
      "outputs": [
        {
          "output_type": "execute_result",
          "data": {
            "text/plain": [
              "<matplotlib.axes._subplots.AxesSubplot at 0x7f8cfeadfe90>"
            ]
          },
          "metadata": {},
          "execution_count": 55
        },
        {
          "output_type": "display_data",
          "data": {
            "text/plain": [
              "<Figure size 720x432 with 1 Axes>"
            ],
            "image/png": "[encoded data removed]"
          },
          "metadata": {
            "needs_background": "light"
          }
        }
      ],
      "source": [
        "fig, ax = plt.subplots(figsize=(10, 6))\n",
        "sns.boxplot(data=cv_results_df, showmeans=True, palette=\"Set3\", ax=ax)"
      ]
    },
    {
      "cell_type": "markdown",
      "metadata": {
        "id": "ZDaBuGn_Hhkx"
      },
      "source": [
        "## Evaluating best model performance"
      ]
    },
    {
      "cell_type": "code",
      "execution_count": null,
      "metadata": {
        "id": "0KooTLZY2AmG"
      },
      "outputs": [],
      "source": [
        "def plot_confusion_matrix(cm, classes,\n",
        "                        normalize=False,\n",
        "                        title='Confusion matrix',\n",
        "                        cmap=plt.cm.Blues):\n",
        "\n",
        "    plt.imshow(cm, interpolation='nearest', cmap=cmap, aspect='auto')\n",
        "    plt.title(title)\n",
        "    plt.colorbar()\n",
        "    tick_marks = np.arange(len(classes))\n",
        "    plt.xticks(tick_marks, classes, rotation=45)\n",
        "    plt.yticks(tick_marks, classes)\n",
        "\n",
        "    if normalize:\n",
        "        cm = cm.astype('float') / cm.sum(axis=1)[:, np.newaxis]\n",
        "        print(\"Normalized confusion matrix\")\n",
        "    else:\n",
        "        print('Confusion matrix, without normalization')\n",
        "\n",
        "    print(cm)\n",
        "\n",
        "    thresh = cm.max() / 2.\n",
        "    for i, j in itertools.product(range(cm.shape[0]), range(cm.shape[1])):\n",
        "        plt.text(j, i, cm[i, j],\n",
        "            horizontalalignment=\"center\",\n",
        "            color=\"white\" if cm[i, j] > thresh else \"black\")\n",
        "\n",
        "    plt.tight_layout()\n",
        "    plt.ylabel('True label')\n",
        "    plt.xlabel('Predicted label')"
      ]
    },
    {
      "cell_type": "code",
      "execution_count": null,
      "metadata": {
        "id": "e1CL71f-a1v2"
      },
      "outputs": [],
      "source": [
        "def get_metric(y_true, y_pred):\n",
        "  model_metrics = {}\n",
        "  model_metrics['accuracy'] = metrics.accuracy_score(y_true, y_pred)\n",
        "  model_metrics['precision_score'] = metrics.precision_score(y_true, y_pred)\n",
        "  model_metrics['recall_score'] = metrics.recall_score(y_true, y_pred)\n",
        "  model_metrics['f1_score'] = metrics.f1_score(y_true, y_pred, average=\"micro\")\n",
        "  model_metrics['cm'] = metrics.confusion_matrix(y_true, y_pred)\n",
        "  tn, fp, _, _ = metrics.confusion_matrix(y_true, y_pred, labels=[0, 1]).ravel()\n",
        "  model_metrics['specificity'] = float(tn / (tn + fp)) if (tn + fp) != 0 else 0\n",
        "  return model_metrics"
      ]
    },
    {
      "cell_type": "code",
      "execution_count": null,
      "metadata": {
        "id": "RLZWQHU_3JA8"
      },
      "outputs": [],
      "source": [
        "## Best model Architecture\n",
        "\n",
        "abc = AdaBoostClassifier(random_state=42, learning_rate=0.8, n_estimators= 95).fit(X_train, y_train)\n",
        "\n",
        "y_pred_train = abc.predict(X_train)\n",
        "y_pred_test = abc.predict(X_test)"
      ]
    },
    {
      "cell_type": "code",
      "execution_count": null,
      "metadata": {
        "id": "25NRJSMG23y5"
      },
      "outputs": [],
      "source": [
        "Train_metrics = get_metric(y_train, y_pred_train)\n",
        "Test_metrics = get_metric(y_test, y_pred_test)"
      ]
    },
    {
      "cell_type": "code",
      "execution_count": null,
      "metadata": {
        "colab": {
          "base_uri": "https://localhost:8080/"
        },
        "id": "yPw0SVadPEDr",
        "outputId": "0d539bc8-cd95-49c1-c957-0906f2cd0419"
      },
      "outputs": [
        {
          "output_type": "stream",
          "name": "stdout",
          "text": [
            "Best model Train metrics:\n",
            " accuracy: 1.0\n",
            " precision: 1.0\n",
            " recall: 1.0\n",
            " f1: 1.0\n",
            " specificity: 1.0\n"
          ]
        }
      ],
      "source": [
        "print(f\"Best model Train metrics:\\n\",\n",
        "      f\"accuracy: {Train_metrics['accuracy']}\\n\",\n",
        "      f\"precision: {Train_metrics['precision_score']}\\n\",\n",
        "      f\"recall: {Train_metrics['recall_score']}\\n\",\n",
        "      f\"f1: {Train_metrics['f1_score']}\\n\",\n",
        "      f\"specificity: {Train_metrics['specificity']}\")"
      ]
    },
    {
      "cell_type": "code",
      "execution_count": null,
      "metadata": {
        "colab": {
          "base_uri": "https://localhost:8080/"
        },
        "id": "5Y0sYKolQ5kS",
        "outputId": "60ae7b17-3de3-4db2-8592-856e7685b6bd"
      },
      "outputs": [
        {
          "output_type": "stream",
          "name": "stdout",
          "text": [
            "Best model Test metrics:\n",
            " accuracy: 0.95\n",
            " precision: 0.9942528735632183\n",
            " recall: 0.9057591623036649\n",
            " f1: 0.9500000000000001\n",
            " specificity: 0.9947089947089947\n"
          ]
        }
      ],
      "source": [
        "print(f\"Best model Test metrics:\\n\",\n",
        "      f\"accuracy: {Test_metrics['accuracy']}\\n\",\n",
        "      f\"precision: {Test_metrics['precision_score']}\\n\",\n",
        "      f\"recall: {Test_metrics['recall_score']}\\n\",\n",
        "      f\"f1: {Test_metrics['f1_score']}\\n\",\n",
        "      f\"specificity: {Test_metrics['specificity']}\")"
      ]
    },
    {
      "cell_type": "code",
      "execution_count": null,
      "metadata": {
        "colab": {
          "base_uri": "https://localhost:8080/",
          "height": 365
        },
        "id": "LEqgoM-9a2Rm",
        "outputId": "a4b2f5ac-9a15-4a02-d57e-18c4b88717ce"
      },
      "outputs": [
        {
          "output_type": "stream",
          "name": "stdout",
          "text": [
            "Confusion matrix, without normalization\n",
            "[[1474    0]\n",
            " [   0 1957]]\n"
          ]
        },
        {
          "output_type": "display_data",
          "data": {
            "text/plain": [
              "<Figure size 432x288 with 2 Axes>"
            ],
            "image/png": "[encoded data removed]"
          },
          "metadata": {
            "needs_background": "light"
          }
        }
      ],
      "source": [
        "label_names = ['Healthy', 'SLI']\n",
        "plot_confusion_matrix(cm=Train_metrics['cm'], classes=label_names)"
      ]
    },
    {
      "cell_type": "code",
      "execution_count": null,
      "metadata": {
        "colab": {
          "base_uri": "https://localhost:8080/",
          "height": 365
        },
        "id": "JROJahWha2H0",
        "outputId": "0950d327-38b0-4936-dd45-efa3ab1d86d7"
      },
      "outputs": [
        {
          "output_type": "stream",
          "name": "stdout",
          "text": [
            "Confusion matrix, without normalization\n",
            "[[188   1]\n",
            " [ 18 173]]\n"
          ]
        },
        {
          "output_type": "display_data",
          "data": {
            "text/plain": [
              "<Figure size 432x288 with 2 Axes>"
            ],
            "image/png": "[encoded data removed]"
          },
          "metadata": {
            "needs_background": "light"
          }
        }
      ],
      "source": [
        "label_names = ['Healthy', 'SLI']\n",
        "plot_confusion_matrix(cm=Test_metrics['cm'], classes=label_names)"
      ]
    },
    {
      "cell_type": "code",
      "execution_count": null,
      "metadata": {
        "id": "n9IlKASbRFgp"
      },
      "outputs": [],
      "source": [
        ""
      ]
    }
  ],
  "metadata": {
    "colab": {
      "collapsed_sections": [],
      "name": "Model_INTERSPEECH2009.ipynb",
      "provenance": [],
      "toc_visible": true
    },
    "kernelspec": {
      "display_name": "Python 3",
      "name": "python3"
    },
    "language_info": {
      "name": "python"
    }
  },
  "nbformat": 4,
  "nbformat_minor": 0
}